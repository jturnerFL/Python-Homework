{
 "cells": [
  {
   "cell_type": "code",
   "execution_count": null,
   "id": "f0d2cfc0",
   "metadata": {},
   "outputs": [],
   "source": [
    "#footer\n",
    "\n",
    "<footer>\n",
    "        <div class=\"bottom\">\n",
    "            <div class=\"map\">\n",
    "                <img src=\"images/citymap.png\" alt=\"Map\" class=\"maping\">\n",
    "            </div>\n",
    "            <div class=\"footinfo\">\n",
    "                <div class=\"foothead\">Info</div>\n",
    "                <div class=\"location\">\n",
    "                    <p class=\"tiny\"><i class=\"fas fa-map-marker-alt\"></i> Downtownsville, FL 55555 United States</p>\n",
    "                </div>\n",
    "                <div class=\"email\">\n",
    "                    <p class=\"tiny\"><i class=\"fas fa-envelope\"></i> griottheatreco@fakeemail.com</p>\n",
    "                </div>\n",
    "                <div class=\"phone\">\n",
    "                    <p class=\"tiny\"><i class=\"fas fa-mobile-alt\"></i> Downtownsville, FL 55555 United States</p>\n",
    "                </div>\n",
    "            </div>\n",
    "            <div class=\"social\">\n",
    "                <div class=\"foohead\">Social Media</div>\n",
    "                <div class=\"media\">\n",
    "                    <a href=\"#\"><p class=\"tiny\"><i class=\"fab fa-facebook\"></i>Facebook</p></a>\n",
    "                </div>\n",
    "                <div class=\"media\">\n",
    "                    <a href=\"#\"><p class=\"tiny\"><i class=\"fab fa-twitter-square\"></i>Twitter</p></a>\n",
    "                </div>\n",
    "                <div class=\"media\">\n",
    "                    <a href=\"#\"><p class=\"tiny\"><i class=\"fab fa-youtube\"></i>YouTube</p></a>\n",
    "                </div>\n",
    "                <div class=\"media\">\n",
    "                    <a href=\"#\"><p class=\"tiny\"><i class=\"fa-brands fa-instagram-square\"></i></i>Instagram</p></a>\n",
    "                </div>\n",
    "            </div>\n",
    "        </div>\n",
    "    </footer>\n",
    "\n",
    "\n",
    "</body>\n",
    "</html>\n",
    "\n",
    "# shows\n",
    "\n",
    "    </div>\n",
    "                <div class=\"show-name\">\n",
    "                    <h1>Raisins In The Sun</h1>\n",
    "                </div>\n",
    "                <div class=\"show-info\">Lorem ipsum dolor sit amet consectetur \n",
    "                    adipisicing elit. Consequatur eius hic rerum nisi molestiae \n",
    "                    vitae harum beatae nemo maxime a.</div>\n"
   ]
  }
 ],
 "metadata": {
  "kernelspec": {
   "display_name": "Python 3 (ipykernel)",
   "language": "python",
   "name": "python3"
  },
  "language_info": {
   "codemirror_mode": {
    "name": "ipython",
    "version": 3
   },
   "file_extension": ".py",
   "mimetype": "text/x-python",
   "name": "python",
   "nbconvert_exporter": "python",
   "pygments_lexer": "ipython3",
   "version": "3.9.7"
  }
 },
 "nbformat": 4,
 "nbformat_minor": 5
}
